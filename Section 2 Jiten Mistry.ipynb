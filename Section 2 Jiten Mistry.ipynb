{
 "cells": [
  {
   "cell_type": "markdown",
   "metadata": {},
   "source": [
    "### Defining new Python Function to clean out cellphone number\n"
   ]
  },
  {
   "cell_type": "code",
   "execution_count": 291,
   "metadata": {
    "collapsed": false
   },
   "outputs": [],
   "source": [
    "#define function with only one string input\n",
    "def CorrectNo(number):\n",
    "    \n",
    "    #assign empty string variables: \"newno\" for clean no & \"dirt\" for non-numericals\n",
    "    newno = ''\n",
    "    dirt = ''\n",
    "    \n",
    "    #assign counter var\n",
    "    x = 0\n",
    "    \n",
    "    #loop through length of string (number) given\n",
    "    for x in range(len(number)): \n",
    "        \n",
    "        #convert each character to string type\n",
    "        k = str(number[x])\n",
    "        \n",
    "        #condition for eliminating non-numerical characters: if not any of these numbers, MUST be deleted\n",
    "        if (k == \"0\") or (k ==\"1\") or (k ==\"2\") or (k ==\"3\") or (k ==\"4\") or (k ==\"5\") or (k ==\"6\") or (k ==\"7\") or (k ==\"8\") or (k ==\"9\"):\n",
    "            \n",
    "            #add numerical character to clean string\n",
    "            newno = newno + k\n",
    "            \n",
    "            #add non-numericals to unwanted string var\n",
    "        else:\n",
    "            dirt = dirt + k\n",
    "            \n",
    "        #increase counter for next character in given string    \n",
    "        x = x + 1           \n",
    "\n",
    "    #conditions for adding initial zero\n",
    "    \n",
    "    #if first character is zero & length of number is 10 digits\n",
    "    if (newno[0] == '0') and (len(newno) == 10):\n",
    "        \n",
    "        #return the clean number\n",
    "        return newno\n",
    "    \n",
    "    #if first character is NOT zero & ONLY needs initial zero, i.e 9 digits\n",
    "    elif (newno[0] != '0') and (len(newno) == 9):\n",
    "        \n",
    "        #adding initial zero to clean number string\n",
    "        newno = '0' + newno\n",
    "        \n",
    "        #return the clean number\n",
    "        return newno\n",
    "    \n",
    "    #if NONE of above conditions work, then string/number entered is already the incorrect length, nothing can be done\n",
    "    else:\n",
    "        \n",
    "        #error message instead of number entered\n",
    "        newno = 'Error: Incorrect length of number entered'\n",
    "        \n",
    "        #display error message\n",
    "        return newno"
   ]
  },
  {
   "cell_type": "markdown",
   "metadata": {},
   "source": [
    "#### Examples: (NOTE: other numbers can also be entered)"
   ]
  },
  {
   "cell_type": "markdown",
   "metadata": {},
   "source": [
    "#### The ideal number"
   ]
  },
  {
   "cell_type": "code",
   "execution_count": 292,
   "metadata": {
    "collapsed": false
   },
   "outputs": [
    {
     "data": {
      "text/plain": [
       "'0121452545'"
      ]
     },
     "execution_count": 292,
     "metadata": {},
     "output_type": "execute_result"
    }
   ],
   "source": [
    "Number = '0121452545'\n",
    "CorrectNo(Number)"
   ]
  },
  {
   "cell_type": "markdown",
   "metadata": {
    "collapsed": false
   },
   "source": [
    "#### One incorrect character "
   ]
  },
  {
   "cell_type": "code",
   "execution_count": 294,
   "metadata": {
    "collapsed": false
   },
   "outputs": [
    {
     "data": {
      "text/plain": [
       "'0122524535'"
      ]
     },
     "execution_count": 294,
     "metadata": {},
     "output_type": "execute_result"
    }
   ],
   "source": [
    "Number = '012h2524535'\n",
    "CorrectNo(Number)"
   ]
  },
  {
   "cell_type": "markdown",
   "metadata": {
    "collapsed": true
   },
   "source": [
    "#### Incorrect length "
   ]
  },
  {
   "cell_type": "code",
   "execution_count": 295,
   "metadata": {
    "collapsed": false
   },
   "outputs": [
    {
     "data": {
      "text/plain": [
       "'Error: Incorrect length of number entered'"
      ]
     },
     "execution_count": 295,
     "metadata": {},
     "output_type": "execute_result"
    }
   ],
   "source": [
    "Number = '012524535'\n",
    "CorrectNo(Number)"
   ]
  },
  {
   "cell_type": "markdown",
   "metadata": {},
   "source": [
    "#### Completely incorrect characters entered "
   ]
  },
  {
   "cell_type": "code",
   "execution_count": 296,
   "metadata": {
    "collapsed": false
   },
   "outputs": [
    {
     "data": {
      "text/plain": [
       "'Error: Incorrect length of number entered'"
      ]
     },
     "execution_count": 296,
     "metadata": {},
     "output_type": "execute_result"
    }
   ],
   "source": [
    "Number = 'KK&&012222'\n",
    "CorrectNo(Number)"
   ]
  },
  {
   "cell_type": "code",
   "execution_count": null,
   "metadata": {
    "collapsed": true
   },
   "outputs": [],
   "source": []
  },
  {
   "cell_type": "code",
   "execution_count": null,
   "metadata": {
    "collapsed": true
   },
   "outputs": [],
   "source": []
  }
 ],
 "metadata": {
  "kernelspec": {
   "display_name": "Python 3",
   "language": "python",
   "name": "python3"
  }
 },
 "nbformat": 4,
 "nbformat_minor": 2
}
